{
 "cells": [
  {
   "cell_type": "markdown",
   "metadata": {},
   "source": [
    "# Online Solvers"
   ]
  },
  {
   "cell_type": "code",
   "execution_count": 1,
   "metadata": {},
   "outputs": [],
   "source": [
    "import os\n",
    "import pickle\n",
    "import pandas as pd\n",
    "from copy import deepcopy"
   ]
  },
  {
   "cell_type": "code",
   "execution_count": 2,
   "metadata": {},
   "outputs": [],
   "source": [
    "os.chdir(\"..\")"
   ]
  },
  {
   "cell_type": "code",
   "execution_count": 3,
   "metadata": {},
   "outputs": [],
   "source": [
    "import config\n",
    "from core import osrm"
   ]
  },
  {
   "cell_type": "markdown",
   "metadata": {},
   "source": [
    "## Load Data (Payload)\n",
    "\n",
    "Example data is loaded for a single incoming request to be routed in an existing manifest "
   ]
  },
  {
   "cell_type": "code",
   "execution_count": 4,
   "metadata": {},
   "outputs": [],
   "source": [
    "with open(\"./data/online_payload.pkl\", 'rb') as f:\n",
    "    payload = pickle.load(f)"
   ]
  },
  {
   "cell_type": "code",
   "execution_count": 5,
   "metadata": {},
   "outputs": [
    {
     "data": {
      "text/plain": [
       "dict_keys(['pickup', 'dropoff', 'depot', 'date', 'time_matrix', 'nodes', 'driver_runs', 'booking_id', 'distance_matrix', 'manifests', 'requests'])"
      ]
     },
     "execution_count": 5,
     "metadata": {},
     "output_type": "execute_result"
    }
   ],
   "source": [
    "payload.keys()"
   ]
  },
  {
   "cell_type": "code",
   "execution_count": 6,
   "metadata": {},
   "outputs": [
    {
     "data": {
      "text/plain": [
       "169"
      ]
     },
     "execution_count": 6,
     "metadata": {},
     "output_type": "execute_result"
    }
   ],
   "source": [
    "len(payload['requests'])"
   ]
  },
  {
   "cell_type": "code",
   "execution_count": 12,
   "metadata": {},
   "outputs": [],
   "source": [
    "def get_pt(pickup_lat, pickup_lon, dropoff_lat, dropoff_lon, action): \n",
    "    if action == 'pickup':\n",
    "        r = {'lat': pickup_lat, 'lon': pickup_lon}\n",
    "    elif action == 'dropoff':\n",
    "        r = {'lat': dropoff_lat, 'lon': dropoff_lon}\n",
    "    else:\n",
    "        r = {'lat': config.DEPOT_LAT, 'lon': config.DEPOT_LON}\n",
    "    return r\n",
    "def manifest_report_h(df, payload):\n",
    "    # for insertion heurisistic\n",
    "    # df must have columns 'booking_id', 'scheduled_arrival_dt', 'action'\n",
    "    # metrics: 'vehicle_miles_travelled', 'vehicle_miles_travelled_per_passenger_served', 'number_of_passengers_served',\n",
    "    # 'vehicle_deadhead_miles'\n",
    "    # 'percentage_of_deadhead_travel (total distance without passengers / total_distance), 'total_detour_time', \n",
    "    \n",
    "    # first sort by 'scheduled_arrival_dt' so we don't have to assume df is in the correct order initially\n",
    "    df = df.sort_values(by='scheduled_arrival_dt')\n",
    "    df['node_id'] = list(range(len(df)))\n",
    "    \n",
    "    # calculate 'occupancy' for manifest\n",
    "    occupancy = [0]\n",
    "    for i in range(1, len(df)):\n",
    "        if df.iloc[i]['action'] == 'pickup':\n",
    "            temp = occupancy[-1] + 1\n",
    "        elif df.iloc[i]['action'] == 'dropoff':\n",
    "            temp = occupancy[-1] - 1\n",
    "        else:\n",
    "            temp = 0\n",
    "        occupancy.append(temp)\n",
    "    df['occupancy'] = occupancy\n",
    "    \n",
    "    # need to get geolocation of each point so we can calculate distances, this requires merging with requests    \n",
    "    df_requests = pd.DataFrame(payload['requests'])\n",
    "    df = pd.merge(df, df_requests, on='booking_id', how='left')\n",
    "    df['pt'] = df.apply(lambda row: get_pt(row['pickup_lat'], row['pickup_lon'], row['dropoff_lat'], row['dropoff_lon'], row['action']), axis=1)\n",
    "    df = df[['booking_id', 'scheduled_arrival_dt', 'action', 'occupancy', 'node_id', 'pt']]\n",
    "    \n",
    "    # distance_matrix\n",
    "    distance_matrix = osrm.request_distance_matrix(df['pt'].tolist())\n",
    "    \n",
    "    # calculate number_of_passengers_served\n",
    "    number_of_passengers_served = len(df[df['action']=='dropoff'])\n",
    "    \n",
    "    total_distance, total_distance_without_passengers = 0, 0\n",
    "    for i in range(len(df)-1):\n",
    "        total_distance += distance_matrix[i][i+1]\n",
    "    from_depot = osrm.request_travel_distance({'lat': config.DEPOT_LAT, 'lon': config.DEPOT_LON}, df.iloc[0]['pt'])\n",
    "    to_depot = osrm.request_travel_distance(df.iloc[-1]['pt'], {'lat': config.DEPOT_LAT, 'lon': config.DEPOT_LON})\n",
    "    total_distance = total_distance + from_depot + to_depot\n",
    "    total_distance_without_passengers = total_distance_without_passengers + from_depot + to_depot\n",
    "    \n",
    "    vehicle_miles_travelled = total_distance / 1609 # convert meters to miles\n",
    "    vehicle_deadhead_miles = total_distance_without_passengers / 1609\n",
    "    \n",
    "    number_of_shared_rides = 0\n",
    "    passenger_meters_travelled = 0\n",
    "    for booking_id in df['booking_id'].unique():\n",
    "        if booking_id != -1:\n",
    "            pickup = df[(df['booking_id']==booking_id) & (df['action']=='pickup')].iloc[0]\n",
    "            dropoff = df[(df['booking_id']==booking_id) & (df['action']=='dropoff')].iloc[0]\n",
    "            dfrn = pd.DataFrame(payload['requests'])\n",
    "            rn = dfrn[(dfrn['booking_id']==booking_id)].iloc[0]\n",
    "            num_passengers = rn['am'] + rn['wc']\n",
    "            passenger_meters_travelled += (distance_matrix[pickup['node_id']][dropoff['node_id']]) * num_passengers\n",
    "            if (pickup['occupancy'] > 1) or (dropoff['occupancy'] > 0) or (dropoff['node_id'] - pickup['node_id'] != 1):\n",
    "                number_of_shared_rides += 1\n",
    "    \n",
    "    passenger_miles_travelled = passenger_meters_travelled / 1609\n",
    "    return {\n",
    "        'VMT': vehicle_miles_travelled,\n",
    "        'VMT_PMT_Ratio': vehicle_miles_travelled / passenger_miles_travelled,\n",
    "        'VDM': vehicle_deadhead_miles,\n",
    "        'number_of_passengers_served': number_of_passengers_served,\n",
    "        'Shared_Rate': int((number_of_shared_rides / number_of_passengers_served) * 100)\n",
    "    }"
   ]
  },
  {
   "cell_type": "code",
   "execution_count": 8,
   "metadata": {},
   "outputs": [],
   "source": [
    "def tsp_insert(i, j, pickup, dropoff, manifest, driver_run_state, time_matrix):\n",
    "    pickup_location, dropoff_location = deepcopy(pickup), deepcopy(dropoff)\n",
    "    new_manifest = deepcopy(manifest)\n",
    "    pickup_location['run_id'], dropoff_location['run_id'] = driver_run_state['run_id'], driver_run_state['run_id']\n",
    "    new_manifest = new_manifest[0:i] + [pickup_location] + new_manifest[i:j] + [dropoff_location] + new_manifest[j:]\n",
    "    first_order = driver_run_state['locations_already_serviced']+1\n",
    "    current_time = driver_run_state['location_dt_seconds']\n",
    "    current_node_id = driver_run_state['node_id']\n",
    "    for l in range(len(new_manifest)):\n",
    "        new_manifest[l]['order'] = l + first_order\n",
    "        current_time = current_time + time_matrix[current_node_id][new_manifest[l]['node_id']] + config.DWELL_TIME\n",
    "        if current_time < new_manifest[l]['time_window_start']:\n",
    "            current_time = new_manifest[l]['time_window_start']\n",
    "        if (current_time > new_manifest[l]['time_window_end']) or (current_time < driver_run_state['start_time']) or (current_time > driver_run_state['end_time']):\n",
    "            return {\n",
    "                'feasible_solution_found': False\n",
    "            }\n",
    "        new_manifest[l]['scheduled_time'] = current_time\n",
    "        current_node_id = new_manifest[l]['node_id']\n",
    "    return {\n",
    "        'feasible_solution_found': True,\n",
    "        'manifest': new_manifest\n",
    "    }\n",
    "def tsp_insertion_h(pickup, dropoff, manifest, driver_run_state, time_matrix,payload):\n",
    "    results = []\n",
    "    for i in range(len(manifest) + 1):\n",
    "        for j in range(i, len(manifest) + 1):\n",
    "            result = tsp_insert(i, j, pickup, dropoff, manifest, driver_run_state, time_matrix)\n",
    "            if result['feasible_solution_found']:\n",
    "                results.append(result)\n",
    "    if results:\n",
    "        if len(results) == 1:\n",
    "            return results[0]\n",
    "        # else get best VMT/PMT ratio\n",
    "        ratios = []\n",
    "        for r in results:\n",
    "            df = pd.DataFrame(r['manifest'])\n",
    "            df = df.rename(columns={'scheduled_time': 'scheduled_arrival_dt'})\n",
    "            metrics = manifest_report_h(df,payload)\n",
    "            ratios.append(metrics['VMT_PMT_Ratio'])\n",
    "        min_value = min(ratios)\n",
    "        # Find the index of the minimum value\n",
    "        min_index = ratios.index(min_value)\n",
    "        return results[min_index]\n",
    "\n",
    "    return {\n",
    "        'feasible_solution_found': False\n",
    "    }\n",
    "\n",
    "def online_solver_heuristic(payload):\n",
    "    '''\n",
    "    Insertion heurisitc, aiming for the best VMT/PMT ratio.\n",
    "\n",
    "    :param payload: A dictionary with 'driver_runs', 'pickup', 'dropoff',\n",
    "                    'time_matrix', and 'date'\n",
    "    :return: manifest, a dictionary with the optimized route details if a feasible solution\n",
    "    is found; otherwise, a dictionary indicating no feasible solution.\n",
    "    '''\n",
    "    states = list(map(lambda x: {'run_id': x['state']['run_id'], 'total_locations': x['state']['total_locations']}, payload['driver_runs']))\n",
    "    states = pd.DataFrame(states).sort_values(by='total_locations', ascending=True)\n",
    "    results = []\n",
    "    for k, v in states.iterrows():\n",
    "        driver_run = list(filter(lambda x: x['state']['run_id']==v['run_id'], payload['driver_runs']))[0]\n",
    "        result = tsp_insertion_h(payload['pickup'], payload['dropoff'], driver_run['manifest'], driver_run['state'], payload['time_matrix'],payload)\n",
    "        # get all results then return one with best VMT/PMT ratio\n",
    "        if result['feasible_solution_found']:\n",
    "            temps = []\n",
    "            for doc in result['manifest']:\n",
    "                temp = {key: doc[key] for key in ['action', 'booking_id', 'node_id', 'run_id', 'scheduled_time']}\n",
    "                temps.append(temp)\n",
    "            result['manifest'] = temps\n",
    "            result['run_id'] = v['run_id']\n",
    "            results.append(result)\n",
    "    if results:\n",
    "        if len(results) == 1:\n",
    "            return results[0]\n",
    "        ratios = []\n",
    "        for r in results:\n",
    "            df = pd.DataFrame(r['manifest'])\n",
    "            df = df.rename(columns={'scheduled_time': 'scheduled_arrival_dt'})\n",
    "            metrics = manifest_report_h(df,payload)\n",
    "            ratios.append(metrics['VMT_PMT_Ratio'])\n",
    "\n",
    "        min_value = min(ratios)\n",
    "        # Find the index of the minimum value\n",
    "        min_index = ratios.index(min_value)\n",
    "        return results[min_index]\n",
    "    \n",
    "    result = {\n",
    "        'feasible_solution_found': False\n",
    "    }\n",
    "    return result"
   ]
  },
  {
   "cell_type": "code",
   "execution_count": 13,
   "metadata": {},
   "outputs": [
    {
     "name": "stdout",
     "output_type": "stream",
     "text": [
      "{'feasible_solution_found': True, 'manifest': [{'action': 'pickup', 'booking_id': 1129856, 'node_id': 355, 'run_id': 9, 'scheduled_time': 27000}, {'action': 'dropoff', 'booking_id': 1129856, 'node_id': 356, 'run_id': 9, 'scheduled_time': 27938}], 'run_id': 9}\n"
     ]
    }
   ],
   "source": [
    "\n",
    "solver_result = online_solver_heuristic(payload)\n",
    "if solver_result['feasible_solution_found']:\n",
    "    print(solver_result)\n",
    "else:\n",
    "    print(\"Feasible Solution Not Found\")\n"
   ]
  }
 ],
 "metadata": {
  "kernelspec": {
   "display_name": "venv",
   "language": "python",
   "name": "python3"
  },
  "language_info": {
   "codemirror_mode": {
    "name": "ipython",
    "version": 3
   },
   "file_extension": ".py",
   "mimetype": "text/x-python",
   "name": "python",
   "nbconvert_exporter": "python",
   "pygments_lexer": "ipython3",
   "version": "3.11.9"
  }
 },
 "nbformat": 4,
 "nbformat_minor": 2
}
